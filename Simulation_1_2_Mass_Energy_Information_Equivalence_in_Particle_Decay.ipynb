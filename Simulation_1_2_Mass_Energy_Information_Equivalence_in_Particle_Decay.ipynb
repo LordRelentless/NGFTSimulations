{
  "nbformat": 4,
  "nbformat_minor": 0,
  "metadata": {
    "colab": {
      "provenance": [],
      "authorship_tag": "ABX9TyP6/AQjurl4SC7Lqz39NpZT",
      "include_colab_link": true
    },
    "kernelspec": {
      "name": "julia",
      "display_name": "Julia"
    },
    "language_info": {
      "name": "julia"
    }
  },
  "cells": [
    {
      "cell_type": "markdown",
      "metadata": {
        "id": "view-in-github",
        "colab_type": "text"
      },
      "source": [
        "<a href=\"https://colab.research.google.com/github/LordRelentless/NGFTSimulations/blob/main/Simulation_1_2_Mass_Energy_Information_Equivalence_in_Particle_Decay.ipynb\" target=\"_parent\"><img src=\"https://colab.research.google.com/assets/colab-badge.svg\" alt=\"Open In Colab\"/></a>"
      ]
    },
    {
      "cell_type": "code",
      "execution_count": 1,
      "metadata": {
        "colab": {
          "base_uri": "https://localhost:8080/"
        },
        "id": "qXJ-a4YUc5AG",
        "outputId": "06da4508-8603-4241-d3de-2134dc8670c6"
      },
      "outputs": [
        {
          "output_type": "stream",
          "name": "stdout",
          "text": [
            "Parent total information: 1.8000000000000002e38 bits\n",
            "Daughters total information: 1.8000000000000002e38 bits\n",
            "∆I = 0.0 bits\n",
            "\n",
            "Parent energy: 1.8e17 J\n",
            "Daughters energy: 1.8e17 J\n",
            "∆E = 0.0 J\n"
          ]
        },
        {
          "output_type": "execute_result",
          "data": {
            "text/plain": [
              "(Particle(2.0, (0.0, 0.0)), Particle(1.0, (-0.24095808099324142, 1.4805199097628017)), Particle(1.0, (0.24095808099324142, -1.4805199097628017)))"
            ]
          },
          "metadata": {},
          "execution_count": 1
        }
      ],
      "source": [
        "# Mass-Energy-Information Equivalence Simulation (Julia - NGFT 1.2)\n",
        "\n",
        "using Plots\n",
        "using Random\n",
        "using Statistics\n",
        "\n",
        "# Constants\n",
        "const k = 1.38e-23         # Boltzmann constant (J/K)\n",
        "const a_U = 1e-21          # NGFT constant (Joules per bit)\n",
        "const c = 3e8              # Speed of light (m/s)\n",
        "const temp = 300.0         # Background temperature (K)\n",
        "\n",
        "# Define Particle struct\n",
        "struct Particle\n",
        "    mass::Float64\n",
        "    velocity::Tuple{Float64, Float64}\n",
        "end\n",
        "\n",
        "# Calculate kinetic energy\n",
        "function kinetic_energy(p::Particle)\n",
        "    v² = p.velocity[1]^2 + p.velocity[2]^2\n",
        "    return 0.5 * p.mass * v²\n",
        "end\n",
        "\n",
        "# NGFT Information: Rest and Kinetic\n",
        "function rest_information(p::Particle)\n",
        "    return p.mass * c^2 / ((k + 1) * a_U)\n",
        "end\n",
        "\n",
        "function kinetic_information(p::Particle)\n",
        "    E_k = kinetic_energy(p)\n",
        "    return E_k / ((k + 1) * a_U)\n",
        "end\n",
        "\n",
        "function total_information(p::Particle)\n",
        "    return rest_information(p) + kinetic_information(p)\n",
        "end\n",
        "\n",
        "# Simulate decay\n",
        "function decay_simulation()\n",
        "    # Parent particle setup\n",
        "    m_parent = 2.0          # Arbitrary mass units\n",
        "    v_parent = (0.0, 0.0)\n",
        "    parent = Particle(m_parent, v_parent)\n",
        "\n",
        "    # Decay into two daughter particles\n",
        "    m_daughter = m_parent / 2\n",
        "    v_daughter = 1.5        # Velocity magnitude for daughters (arbitrary)\n",
        "\n",
        "    # Opposite directions to conserve momentum\n",
        "    angle = rand() * 2π\n",
        "    vx = v_daughter * cos(angle)\n",
        "    vy = v_daughter * sin(angle)\n",
        "\n",
        "    daughter1 = Particle(m_daughter, (vx, vy))\n",
        "    daughter2 = Particle(m_daughter, (-vx, -vy))\n",
        "\n",
        "    # Energy and info calculations\n",
        "    I_parent = total_information(parent)\n",
        "    I_daughters = total_information(daughter1) + total_information(daughter2)\n",
        "\n",
        "    E_parent = (k + 1) * a_U * I_parent\n",
        "    E_daughters = (k + 1) * a_U * I_daughters\n",
        "\n",
        "    println(\"Parent total information: $(round(I_parent, digits=4)) bits\")\n",
        "    println(\"Daughters total information: $(round(I_daughters, digits=4)) bits\")\n",
        "    println(\"∆I = $(round(I_daughters - I_parent, digits=4)) bits\")\n",
        "\n",
        "    println(\"\\nParent energy: $(round(E_parent, digits=4)) J\")\n",
        "    println(\"Daughters energy: $(round(E_daughters, digits=4)) J\")\n",
        "    println(\"∆E = $(round(E_daughters - E_parent, digits=4)) J\")\n",
        "\n",
        "    # Return particles for optional plotting\n",
        "    return parent, daughter1, daughter2\n",
        "end\n",
        "\n",
        "decay_simulation()"
      ]
    }
  ]
}
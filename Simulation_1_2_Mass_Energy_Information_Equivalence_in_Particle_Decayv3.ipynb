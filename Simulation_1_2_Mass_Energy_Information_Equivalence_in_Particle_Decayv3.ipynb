{
  "nbformat": 4,
  "nbformat_minor": 0,
  "metadata": {
    "colab": {
      "provenance": [],
      "authorship_tag": "ABX9TyMxYd/NnAJ4D058mP5lGVH4",
      "include_colab_link": true
    },
    "kernelspec": {
      "name": "julia",
      "display_name": "Julia"
    },
    "language_info": {
      "name": "julia"
    }
  },
  "cells": [
    {
      "cell_type": "markdown",
      "metadata": {
        "id": "view-in-github",
        "colab_type": "text"
      },
      "source": [
        "<a href=\"https://colab.research.google.com/github/LordRelentless/NGFTSimulations/blob/main/Simulation_1_2_Mass_Energy_Information_Equivalence_in_Particle_Decayv3.ipynb\" target=\"_parent\"><img src=\"https://colab.research.google.com/assets/colab-badge.svg\" alt=\"Open In Colab\"/></a>"
      ]
    },
    {
      "cell_type": "code",
      "execution_count": 3,
      "metadata": {
        "colab": {
          "base_uri": "https://localhost:8080/"
        },
        "id": "VFrsiGn-dVtH",
        "outputId": "0bd84fbe-7a11-4b12-86ee-1f6a004d5890"
      },
      "outputs": [
        {
          "output_type": "stream",
          "name": "stdout",
          "text": [
            "=== Informational Energy by Generation ===\n",
            "Gen 0: 3.6000e+38 bits\n",
            "Gen 1: 3.6000e+38 bits\n",
            "Gen 2: 3.6000e+38 bits\n",
            "Gen 3: 3.6000e+38 bits\n"
          ]
        },
        {
          "output_type": "execute_result",
          "data": {
            "text/plain": [
              "Main.NGFTDecay"
            ]
          },
          "metadata": {},
          "execution_count": 3
        }
      ],
      "source": [
        "module NGFTDecay\n",
        "\n",
        "using Random, Printf\n",
        "\n",
        "# Constants\n",
        "const k = 1.38e-23        # Boltzmann constant\n",
        "const a_U = 1e-21         # NGFT information-energy conversion\n",
        "const c = 3e8             # Speed of light\n",
        "\n",
        "# Particle Struct\n",
        "mutable struct Particle\n",
        "    id::Int\n",
        "    mass::Float64\n",
        "    velocity::Tuple{Float64, Float64}\n",
        "    parent_id::Union{Int, Nothing}\n",
        "    generation::Int\n",
        "end\n",
        "\n",
        "# Ledger to track all particles and events\n",
        "mutable struct SimulationState\n",
        "    particles::Dict{Int, Particle}\n",
        "    next_id::Int\n",
        "end\n",
        "\n",
        "function SimulationState()\n",
        "    return SimulationState(Dict{Int, Particle}(), 1)\n",
        "end\n",
        "\n",
        "# Calculate total energy from information\n",
        "function total_information(p::Particle)\n",
        "    vx, vy = p.velocity\n",
        "    ke = 0.5 * p.mass * (vx^2 + vy^2)\n",
        "    rest = p.mass * c^2\n",
        "    info_rest = rest / ((k + 1) * a_U)\n",
        "    info_kinetic = ke / ((k + 1) * a_U)\n",
        "    return info_rest + info_kinetic\n",
        "end\n",
        "\n",
        "# Add particle to state\n",
        "function add_particle!(state::SimulationState, p::Particle)\n",
        "    state.particles[p.id] = p\n",
        "    state.next_id += 1\n",
        "end\n",
        "\n",
        "# Decay rule: splits particle into two equal daughters with opposite momentum\n",
        "function decay!(state::SimulationState, pid::Int)\n",
        "    parent = state.particles[pid]\n",
        "\n",
        "    m_d = parent.mass / 2\n",
        "    speed = rand() * 2.0  # Randomized kinetic energy\n",
        "    θ = rand() * 2π\n",
        "    vx = speed * cos(θ)\n",
        "    vy = speed * sin(θ)\n",
        "\n",
        "    d1 = Particle(state.next_id, m_d, (vx, vy), parent.id, parent.generation + 1)\n",
        "    add_particle!(state, d1)\n",
        "\n",
        "    d2 = Particle(state.next_id, m_d, (-vx, -vy), parent.id, parent.generation + 1)\n",
        "    add_particle!(state, d2)\n",
        "end\n",
        "\n",
        "# Run chain simulation for N generations\n",
        "function run_decay_chain(generations::Int)\n",
        "    state = SimulationState()\n",
        "    parent = Particle(state.next_id, 4.0, (0.0, 0.0), nothing, 0)\n",
        "    add_particle!(state, parent)\n",
        "\n",
        "    for g in 1:generations\n",
        "        current = [p for p in values(state.particles) if p.generation == g - 1]\n",
        "        for p in current\n",
        "            decay!(state, p.id)\n",
        "        end\n",
        "    end\n",
        "\n",
        "    return state\n",
        "end\n",
        "\n",
        "# Audit information totals\n",
        "function audit_information(state::SimulationState)\n",
        "    gen_info = Dict{Int, Float64}()\n",
        "\n",
        "    for p in values(state.particles)\n",
        "        I = total_information(p)\n",
        "        gen = p.generation\n",
        "        gen_info[gen] = get(gen_info, gen, 0.0) + I\n",
        "    end\n",
        "\n",
        "    println(\"=== Informational Energy by Generation ===\")\n",
        "    for g in sort(collect(keys(gen_info)))\n",
        "        @printf(\"Gen %d: %.4e bits\\n\", g, gen_info[g])\n",
        "    end\n",
        "end\n",
        "\n",
        "# Run it\n",
        "state = run_decay_chain(3)\n",
        "audit_information(state)\n",
        "\n",
        "end # module"
      ]
    }
  ]
}
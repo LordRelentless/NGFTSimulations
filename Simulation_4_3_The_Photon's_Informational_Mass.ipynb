{
  "nbformat": 4,
  "nbformat_minor": 0,
  "metadata": {
    "colab": {
      "provenance": [],
      "authorship_tag": "ABX9TyNi+0WlKCkIJuoA7Ednm+cU",
      "include_colab_link": true
    },
    "kernelspec": {
      "name": "julia",
      "display_name": "Julia"
    },
    "language_info": {
      "name": "julia"
    }
  },
  "cells": [
    {
      "cell_type": "markdown",
      "metadata": {
        "id": "view-in-github",
        "colab_type": "text"
      },
      "source": [
        "<a href=\"https://colab.research.google.com/github/LordRelentless/NGFTSimulations/blob/main/Simulation_4_3_The_Photon's_Informational_Mass.ipynb\" target=\"_parent\"><img src=\"https://colab.research.google.com/assets/colab-badge.svg\" alt=\"Open In Colab\"/></a>"
      ]
    },
    {
      "cell_type": "code",
      "execution_count": 4,
      "metadata": {
        "colab": {
          "base_uri": "https://localhost:8080/"
        },
        "id": "SVDxkUTwQZ77",
        "outputId": "015291f4-133e-41a2-c579-aa977076be87"
      },
      "outputs": [
        {
          "output_type": "stream",
          "name": "stdout",
          "text": [
            "--- NGFT Photon Informational Mass Simulation (V2) ---\n",
            "Phase 1: Calculating photon energy history...\n",
            "Phase 1 complete.\n",
            "Phase 2: Rendering animation...\n",
            "Animation saved as ngft_photon_mass_simulation.gif\n",
            "Phase 3: Generating final static plot for publication...\n"
          ]
        },
        {
          "output_type": "stream",
          "name": "stderr",
          "text": [
            "\u001b[36m\u001b[1m[ \u001b[22m\u001b[39m\u001b[36m\u001b[1mInfo: \u001b[22m\u001b[39mSaved animation to /content/ngft_photon_mass_simulation.gif\n"
          ]
        },
        {
          "output_type": "stream",
          "name": "stdout",
          "text": [
            "Final plot saved as ngft_photon_mass_final.png\n",
            "Simulation successfully finished.\n"
          ]
        }
      ],
      "source": [
        "# Simulation 4.3: The Photon's Informational Mass\n",
        "# Language: Julia (V2 - Robust Saving)\n",
        "\n",
        "using Plots\n",
        "using Printf\n",
        "gr()\n",
        "\n",
        "println(\"--- NGFT Photon Informational Mass Simulation (V2) ---\")\n",
        "\n",
        "# --- 1. Simulation & NGFT Parameters ---\n",
        "N_FRAMES = 1000\n",
        "MAX_TIME_GYR = 13.0\n",
        "DT = MAX_TIME_GYR / N_FRAMES\n",
        "const LAMBDA_INFO = 0.05\n",
        "const H0_per_GYR = 0.07\n",
        "\n",
        "# --- 2. Initialization ---\n",
        "initial_energy = 1.0\n",
        "time_history = zeros(N_FRAMES)\n",
        "e_standard_history = zeros(N_FRAMES)\n",
        "e_ngft_history = zeros(N_FRAMES)\n",
        "deficit_history = zeros(N_FRAMES)\n",
        "\n",
        "# --- 3. PHASE 1: Run Physics Calculation ---\n",
        "println(\"Phase 1: Calculating photon energy history...\")\n",
        "for i in 1:N_FRAMES\n",
        "    t = i * DT\n",
        "    scale_factor = 1.0 + H0_per_GYR * t\n",
        "    e_standard = initial_energy / scale_factor\n",
        "    informational_decay_factor = exp(-LAMBDA_INFO * t)\n",
        "    e_ngft = e_standard * informational_decay_factor\n",
        "\n",
        "    time_history[i] = t\n",
        "    e_standard_history[i] = e_standard\n",
        "    e_ngft_history[i] = e_ngft\n",
        "    deficit_history[i] = e_standard - e_ngft\n",
        "end\n",
        "println(\"Phase 1 complete.\")\n",
        "\n",
        "# --- 4. PHASE 2: Render the Animation ---\n",
        "println(\"Phase 2: Rendering animation...\")\n",
        "\n",
        "anim = @animate for i in 1:2:N_FRAMES # Animate every other frame for speed\n",
        "    p_layout = @layout [a; b]\n",
        "    p = plot(layout=p_layout, size=(1200, 900), background_color=:black,\n",
        "             bottom_margin=10Plots.mm, left_margin=10Plots.mm)\n",
        "\n",
        "    # Top Pane: Energy vs. Time\n",
        "    plot!(p[1], xlims=(0, MAX_TIME_GYR), ylims=(0, initial_energy * 1.1),\n",
        "          title=\"Photon Energy over Cosmological Time\",\n",
        "          xlabel=\"Time (Billions of Years)\", ylabel=\"Normalized Energy E(t)\")\n",
        "    plot!(p[1], time_history[1:i], e_standard_history[1:i], color=:red, lw=3, ls=:dash, label=\"Standard Photon (Redshift Only)\")\n",
        "    plot!(p[1], time_history[1:i], e_ngft_history[1:i], color=:cyan, lw=3, label=\"NGFT Photon (Redshift + Info-Mass Effect)\")\n",
        "\n",
        "    # Bottom Pane: The Energy Deficit\n",
        "    plot!(p[2], xlims=(0, MAX_TIME_GYR), ylims=(0, maximum(deficit_history) * 1.1),\n",
        "          title=\"NGFT Energy Deficit\",\n",
        "          xlabel=\"Time (Billions of Years)\", ylabel=\"Energy Difference (E_std - E_ngft)\")\n",
        "    plot!(p[2], time_history[1:i], deficit_history[1:i], color=:yellow, lw=3, label=\"Cumulative Energy Loss\")\n",
        "end\n",
        "\n",
        "gif(anim, \"ngft_photon_mass_simulation.gif\", fps=30)\n",
        "println(\"Animation saved as ngft_photon_mass_simulation.gif\")\n",
        "\n",
        "\n",
        "# --- 5. PHASE 3: Generate Final Static Plot Separately ---\n",
        "println(\"Phase 3: Generating final static plot for publication...\")\n",
        "\n",
        "# Create a new plot object for the final image\n",
        "p_layout_final = @layout [a; b]\n",
        "final_plot = plot(layout=p_layout_final, size=(1200, 900), background_color=:black,\n",
        "                  bottom_margin=10Plots.mm, left_margin=10Plots.mm)\n",
        "\n",
        "# Top Pane with ALL data\n",
        "plot!(final_plot[1], xlims=(0, MAX_TIME_GYR), ylims=(0, initial_energy * 1.1),\n",
        "      title=\"Photon Energy over Cosmological Time (Final State)\",\n",
        "      xlabel=\"Time (Billions of Years)\", ylabel=\"Normalized Energy E(t)\")\n",
        "plot!(final_plot[1], time_history, e_standard_history, color=:red, lw=3, ls=:dash, label=\"Standard Photon (Redshift Only)\")\n",
        "plot!(final_plot[1], time_history, e_ngft_history, color=:cyan, lw=3, label=\"NGFT Photon (Redshift + Info-Mass Effect)\")\n",
        "\n",
        "# Bottom Pane with ALL data\n",
        "plot!(final_plot[2], xlims=(0, MAX_TIME_GYR), ylims=(0, maximum(deficit_history) * 1.1),\n",
        "      title=\"NGFT Energy Deficit (Final State)\",\n",
        "      xlabel=\"Time (Billions of Years)\", ylabel=\"Energy Difference (E_std - E_ngft)\")\n",
        "plot!(final_plot[2], time_history, deficit_history, color=:yellow, lw=3, label=\"Cumulative Energy Loss\")\n",
        "\n",
        "# !--- THE CRITICAL BUG FIX ---!\n",
        "# Save the new, clean plot object directly.\n",
        "savefig(final_plot, \"ngft_photon_mass_final.png\")\n",
        "println(\"Final plot saved as ngft_photon_mass_final.png\")\n",
        "\n",
        "println(\"Simulation successfully finished.\")"
      ]
    }
  ]
}
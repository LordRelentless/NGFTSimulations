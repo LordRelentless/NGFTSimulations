{
  "nbformat": 4,
  "nbformat_minor": 0,
  "metadata": {
    "colab": {
      "provenance": [],
      "authorship_tag": "ABX9TyNNPHxDM0G/9rpfzM1Qp/dE",
      "include_colab_link": true
    },
    "kernelspec": {
      "name": "julia",
      "display_name": "Julia"
    },
    "language_info": {
      "name": "julia"
    }
  },
  "cells": [
    {
      "cell_type": "markdown",
      "metadata": {
        "id": "view-in-github",
        "colab_type": "text"
      },
      "source": [
        "<a href=\"https://colab.research.google.com/github/LordRelentless/NGFTSimulations/blob/main/Simulation_3_2_SU(3)_Information_Dynamics_(Quark_Confinement).ipynb\" target=\"_parent\"><img src=\"https://colab.research.google.com/assets/colab-badge.svg\" alt=\"Open In Colab\"/></a>"
      ]
    },
    {
      "cell_type": "code",
      "execution_count": 1,
      "metadata": {
        "colab": {
          "base_uri": "https://localhost:8080/"
        },
        "id": "wtu3mw5FgnXN",
        "outputId": "7f09d688-05fc-4508-e989-43c56e463119"
      },
      "outputs": [
        {
          "output_type": "stream",
          "name": "stdout",
          "text": [
            "--- NGFT Quark Confinement Simulation ---\n",
            "Rendering animation...\n",
            "Animation saved as ngft_confinement_simulation.gif\n"
          ]
        },
        {
          "output_type": "stream",
          "name": "stderr",
          "text": [
            "\u001b[36m\u001b[1m[ \u001b[22m\u001b[39m\u001b[36m\u001b[1mInfo: \u001b[22m\u001b[39mSaved animation to /content/ngft_confinement_simulation.gif\n"
          ]
        }
      ],
      "source": [
        "# Simulation 3.2: SU(3) Information Dynamics and Quark Confinement\n",
        "# Language: Julia\n",
        "\n",
        "using Plots\n",
        "gr()\n",
        "\n",
        "println(\"--- NGFT Quark Confinement Simulation ---\")\n",
        "println(\"Rendering animation...\")\n",
        "\n",
        "# --- 1. Simulation Parameters ---\n",
        "N_FRAMES = 300\n",
        "FPS = 30\n",
        "\n",
        "# Parameters for the strong force potential V(r) = -α/r + σ*r\n",
        "const ALPHA_S = 4.0  # Strength of the short-range \"Coulomb-like\" term\n",
        "const SIGMA = 0.5    # String tension of the long-range linear term\n",
        "\n",
        "# Animation parameters\n",
        "MAX_SEPARATION = 16.0\n",
        "QUARK_Y_POS = 10.0\n",
        "\n",
        "# --- 2. Helper Functions ---\n",
        "function strong_potential(r)\n",
        "    # Clamp r to avoid division by zero at r=0\n",
        "    r_safe = max(r, 0.01)\n",
        "    return -ALPHA_S / r_safe + SIGMA * r_safe\n",
        "end\n",
        "\n",
        "# --- 3. Create the Animation ---\n",
        "anim = @animate for i in 1:N_FRAMES\n",
        "    # A. Setup the plot layout for this frame\n",
        "    p_layout = @layout [a{0.6h}; b]\n",
        "    p = plot(layout=p_layout, size=(1000, 800), background_color=:black)\n",
        "\n",
        "    # B. Subplot 1: The Quark Visualization\n",
        "    plot!(p[1], xlims=(0, 20), ylims=(0, 20), legend=false,\n",
        "          title=\"SU(3) Information Field Dynamics\",\n",
        "          grid=false, xticks=false, yticks=false)\n",
        "\n",
        "    # Calculate current separation based on animation frame\n",
        "    current_sep = (i / N_FRAMES) * MAX_SEPARATION\n",
        "    quark1_pos = [10.0 - current_sep / 2.0, QUARK_Y_POS]\n",
        "    quark2_pos = [10.0 + current_sep / 2.0, QUARK_Y_POS]\n",
        "\n",
        "    # Draw the flux tube between the quarks\n",
        "    if current_sep > 0.1\n",
        "        tube_width = 0.5 + current_sep * 0.05 # Tube gets slightly thicker\n",
        "        n_lines = 15\n",
        "        for j in 1:n_lines\n",
        "            alpha_val = 1.0 - (abs(j - (n_lines+1)/2) / ((n_lines+1)/2))^2\n",
        "            plot!(p[1], [quark1_pos[1], quark2_pos[1]],\n",
        "                  [quark1_pos[2] + (j-(n_lines+1)/2)*0.1*tube_width, quark2_pos[2] + (j-(n_lines+1)/2)*0.1*tube_width],\n",
        "                  color=:cyan, lw=2, alpha=alpha_val*0.6)\n",
        "        end\n",
        "    end\n",
        "\n",
        "    # Draw the quarks\n",
        "    scatter!(p[1], [quark1_pos[1]], [quark1_pos[2]], markersize=12, color=:red, markerstrokecolor=:white, markerstrokewidth=2)\n",
        "    scatter!(p[1], [quark2_pos[1]], [quark2_pos[2]], markersize=12, color=:green, markerstrokecolor=:white, markerstrokewidth=2)\n",
        "\n",
        "    # Add explanatory text\n",
        "    annotate!(p[1], 10, 18, text(\"As quarks separate, the energy stored in the\\n'information flux tube' between them grows.\",\n",
        "                                 color=:cyan, pointsize=10))\n",
        "\n",
        "    # C. Subplot 2: The Potential Energy Graph\n",
        "    plot!(p[2], xlims=(0, MAX_SEPARATION), ylims=(-20, 10),\n",
        "          title=\"Potential Energy vs. Separation\",\n",
        "          xlabel=\"Separation (r)\", ylabel=\"Potential Energy V(r)\")\n",
        "\n",
        "    # Draw the full potential curve\n",
        "    r_vals = range(0.1, MAX_SEPARATION, length=200)\n",
        "    v_vals = strong_potential.(r_vals)\n",
        "    plot!(p[2], r_vals, v_vals, lw=3, color=:magenta, label=\"V(r) = -α/r + σr\")\n",
        "\n",
        "    # Draw a point showing the current state\n",
        "    current_potential = strong_potential(current_sep)\n",
        "    scatter!(p[2], [current_sep], [current_potential], markersize=8, color=:yellow,\n",
        "             markerstrokecolor=:black, markerstrokewidth=2, label=\"Current State\")\n",
        "\n",
        "    # Add explanatory text for the two phenomena\n",
        "    annotate!(p[2], 5, 5, text(\"Confinement:\\nEnergy grows linearly, so infinite\\nenergy is needed to fully separate.\",\n",
        "                               color=:white, pointsize=10))\n",
        "    annotate!(p[2], 5, -15, text(\"Asymptotic Freedom:\\nAt r → 0, the potential flattens,\\nmeaning the force is very weak.\",\n",
        "                                color=:white, pointsize=10))\n",
        "end\n",
        "\n",
        "# --- 4. Save the Animation ---\n",
        "gif(anim, \"ngft_confinement_simulation.gif\", fps=FPS)\n",
        "println(\"Animation saved as ngft_confinement_simulation.gif\")"
      ]
    }
  ]
}
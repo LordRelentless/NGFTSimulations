{
  "nbformat": 4,
  "nbformat_minor": 0,
  "metadata": {
    "colab": {
      "provenance": [],
      "gpuType": "V28",
      "authorship_tag": "ABX9TyMozSesVc8xR0Yg/9FOowVD",
      "include_colab_link": true
    },
    "kernelspec": {
      "name": "python3",
      "display_name": "Python 3"
    },
    "language_info": {
      "name": "python"
    },
    "accelerator": "TPU"
  },
  "cells": [
    {
      "cell_type": "markdown",
      "metadata": {
        "id": "view-in-github",
        "colab_type": "text"
      },
      "source": [
        "<a href=\"https://colab.research.google.com/github/LordRelentless/NGFTSimulations/blob/main/Simulation_1_1_The_Duality_of_Entropy.ipynb\" target=\"_parent\"><img src=\"https://colab.research.google.com/assets/colab-badge.svg\" alt=\"Open In Colab\"/></a>"
      ]
    },
    {
      "cell_type": "code",
      "execution_count": 3,
      "metadata": {
        "colab": {
          "resources": {
            "http://localhost:8080/ngft_simulation_animation.gif": {
              "data": "",
              "ok": false,
              "headers": [
                [
                  "content-length",
                  "0"
                ]
              ],
              "status": 404,
              "status_text": ""
            }
          },
          "base_uri": "https://localhost:8080/",
          "height": 239
        },
        "id": "dZ2aYtZ9HmS6",
        "outputId": "b25222d2-a885-47c4-e7f5-6e6596898352"
      },
      "outputs": [
        {
          "output_type": "stream",
          "name": "stdout",
          "text": [
            "Running NGFT Duality of Entropy Simulation (V4)...\n",
            "Phase 1: Calculating physics data...\n",
            "Phase 1 complete. All data calculated.\n",
            "Phase 2: Rendering animation...\n",
            "Attempting to save animation to ngft_simulation_animation.gif...\n",
            "Animation saving process finished.\n",
            "Phase 2 complete. Animation saved as ngft_simulation_animation.gif.\n",
            "Phase 3: Displaying animation...\n",
            "Successfully saved and found non-empty GIF file: ngft_simulation_animation.gif\n"
          ]
        },
        {
          "output_type": "display_data",
          "data": {
            "text/plain": [
              "<IPython.core.display.HTML object>"
            ],
            "text/html": [
              "<img src=\"ngft_simulation_animation.gif\">"
            ]
          },
          "metadata": {}
        },
        {
          "output_type": "stream",
          "name": "stdout",
          "text": [
            "\n",
            "--- Simulation Complete ---\n"
          ]
        }
      ],
      "source": [
        "import numpy as np\n",
        "import matplotlib.pyplot as plt\n",
        "from matplotlib.animation import FuncAnimation\n",
        "from IPython.display import HTML, display # Import necessary modules for displaying GIF\n",
        "import os # Import os module to check file\n",
        "\n",
        "print(\"Running NGFT Duality of Entropy Simulation (V4)...\")\n",
        "print(\"Phase 1: Calculating physics data...\")\n",
        "\n",
        "# --- Simulation Parameters (Unchanged) ---\n",
        "N_PARTICLES = 50\n",
        "BOX_SIZE = 20.0\n",
        "DT = 0.01\n",
        "SIM_STEPS = 1500\n",
        "COOLING_RATE = 0.998\n",
        "INFO_COST_PER_INTERACTION = 0.2\n",
        "MIN_INIT_DIST = 1.0\n",
        "epsilon = 1.0\n",
        "sigma = 1.0\n",
        "\n",
        "# --- Initialization and Physics Functions (Unchanged) ---\n",
        "def create_safe_initial_positions(n, box_size, min_dist):\n",
        "    positions = np.zeros((n, 2))\n",
        "    for i in range(n):\n",
        "        attempts = 0\n",
        "        while True:\n",
        "            attempts += 1\n",
        "            if attempts > 1000: raise RuntimeError(\"Could not place particles.\")\n",
        "            candidate_pos = np.random.rand(2) * box_size\n",
        "            if i == 0: positions[i] = candidate_pos; break\n",
        "            is_safe = True\n",
        "            for j in range(i):\n",
        "                if np.linalg.norm(candidate_pos - positions[j]) < min_dist: is_safe = False; break\n",
        "            if is_safe: positions[i] = candidate_pos; break\n",
        "    return positions\n",
        "\n",
        "def calculate_forces_and_info_cost(positions):\n",
        "    forces = np.zeros_like(positions)\n",
        "    interaction_count = 0\n",
        "    for i in range(N_PARTICLES):\n",
        "        for j in range(i + 1, N_PARTICLES):\n",
        "            rij = positions[i] - positions[j]\n",
        "            rij -= BOX_SIZE * np.round(rij / BOX_SIZE)\n",
        "            dist_sq = np.sum(rij**2)\n",
        "            if dist_sq < (2.5 * sigma)**2:\n",
        "                # Add a small epsilon to dist_sq to prevent division by zero\n",
        "                if dist_sq < 1e-9: # Check if distance is practically zero\n",
        "                    dist_sq = 1e-9 # Set a minimum distance squared to avoid division by zero\n",
        "                if dist_sq < (1.5 * sigma)**2: interaction_count += 1\n",
        "                inv_dist_sq = 1.0 / dist_sq\n",
        "                inv_dist_6 = inv_dist_sq**3\n",
        "                inv_dist_12 = inv_dist_6**2\n",
        "                force_mag = 48 * epsilon * (inv_dist_12 - 0.5 * inv_dist_6) * inv_dist_sq\n",
        "                # Check for NaN or Inf in force_mag and skip if found\n",
        "                if np.isfinite(force_mag):\n",
        "                    forces[i] += force_mag * rij\n",
        "                    forces[j] -= force_mag * rij\n",
        "    info_cost = interaction_count * INFO_COST_PER_INTERACTION\n",
        "    return forces, info_cost\n",
        "\n",
        "# !--- THE ONLY CHANGE IS IN THIS FUNCTION ---!\n",
        "def calculate_s_mass(kinetic_energy):\n",
        "    \"\"\"\n",
        "    Calculates Mass Entropy. Adds a small constant inside the log\n",
        "    to prevent log(0) = -inf, ensuring numerical stability at low temps.\n",
        "    \"\"\"\n",
        "    # This prevents the function from ever returning -inf.\n",
        "    return N_PARTICLES * np.log((BOX_SIZE**2) * kinetic_energy + 1e-9)\n",
        "\n",
        "\n",
        "# --- Phase 1: Data Calculation (Unchanged) ---\n",
        "pos_history = np.zeros((SIM_STEPS, N_PARTICLES, 2))\n",
        "entropy_history = {'steps': [], 's_mass': [], 's_info': [], 's_total': []}\n",
        "ke_history = []\n",
        "pos = create_safe_initial_positions(N_PARTICLES, BOX_SIZE, MIN_INIT_DIST)\n",
        "vel = (np.random.rand(N_PARTICLES, 2) - 0.5) * 1.0\n",
        "s_info_cumulative = 0.0\n",
        "\n",
        "for step in range(SIM_STEPS):\n",
        "    pos_history[step] = pos\n",
        "    forces, info_cost_this_step = calculate_forces_and_info_cost(pos)\n",
        "    s_info_cumulative += info_cost_this_step\n",
        "    vel += 0.5 * forces * DT\n",
        "    pos += vel * DT\n",
        "    pos %= BOX_SIZE\n",
        "    forces, _ = calculate_forces_and_info_cost(pos)\n",
        "    vel += 0.5 * forces * DT\n",
        "    vel *= COOLING_RATE\n",
        "    kinetic_energy = 0.5 * np.sum(vel**2)\n",
        "    s_m = calculate_s_mass(kinetic_energy)\n",
        "    s_i = s_info_cumulative\n",
        "    entropy_history['steps'].append(step)\n",
        "    entropy_history['s_mass'].append(s_m)\n",
        "    entropy_history['s_info'].append(s_i)\n",
        "    entropy_history['s_total'].append(s_m + s_i)\n",
        "    ke_history.append(kinetic_energy)\n",
        "\n",
        "print(\"Phase 1 complete. All data calculated.\")\n",
        "print(\"Phase 2: Rendering animation...\")\n",
        "\n",
        "\n",
        "# --- Phase 2: Animation Setup and Execution (Modified for saving GIF and handling NaN/Inf) ---\n",
        "fig, (ax1, ax2) = plt.subplots(1, 2, figsize=(18, 9))\n",
        "plt.style.use('dark_background')\n",
        "ax1.set_title(\"Particle System (Cooling)\"); ax1.set_xlim(0, BOX_SIZE); ax1.set_ylim(0, BOX_SIZE)\n",
        "ax1.set_xticks([]); ax1.set_yticks([])\n",
        "scatter = ax1.scatter(pos_history[0, :, 0], pos_history[0, :, 1], color='cyan')\n",
        "temp_text = ax1.text(0.02, 0.95, '', transform=ax1.transAxes, fontsize=12, color='white', va='top')\n",
        "ax2.set_title(\"NGFT Entropy Duality (Live)\")\n",
        "ax2.set_xlabel(\"Simulation Step\"); ax2.set_ylabel(\"Entropy (Arbitrary Units)\")\n",
        "line_sm, = ax2.plot([], [], 'r-', label='S_Mass (Disorder)')\n",
        "line_si, = ax2.plot([], [], 'c-', label='S_Info (Cumulative Cost)')\n",
        "line_st, = ax2.plot([], [], 'w--', lw=2, label='S_Total (S_M + S_I)')\n",
        "\n",
        "ax2.set_xlim(0, SIM_STEPS)\n",
        "\n",
        "# Filter out NaN and Inf values before calculating min/max for y-axis limits\n",
        "valid_s_mass = [x for x in entropy_history['s_mass'] if np.isfinite(x)]\n",
        "valid_s_total = [x for x in entropy_history['s_total'] if np.isfinite(x)]\n",
        "\n",
        "# Set y-axis limits only if there are valid data points\n",
        "if valid_s_mass and valid_s_total:\n",
        "    min_y = np.min(valid_s_mass)\n",
        "    max_y = np.max(valid_s_total)\n",
        "    ax2.set_ylim(min_y - abs(min_y)*0.1, max_y * 1.1)\n",
        "else:\n",
        "    # Set default limits or handle the case where all values are NaN/Inf\n",
        "    ax2.set_ylim(-10, 10) # Example default limits, adjust as needed\n",
        "\n",
        "\n",
        "ax2.legend(); ax2.grid(True, alpha=0.3)\n",
        "\n",
        "def update_animation(frame):\n",
        "    scatter.set_offsets(pos_history[frame])\n",
        "    ke = ke_history[frame]\n",
        "    temp_text.set_text(f'Step: {frame}/{SIM_STEPS}\\nTemp (KE): {ke / N_PARTICLES:.2f}')\n",
        "    line_sm.set_data(entropy_history['steps'][:frame+1], entropy_history['s_mass'][:frame+1])\n",
        "    line_si.set_data(entropy_history['steps'][:frame+1], entropy_history['s_info'][:frame+1])\n",
        "    line_st.set_data(entropy_history['steps'][:frame+1], entropy_history['s_total'][:frame+1])\n",
        "    return scatter, temp_text, line_sm, line_si, line_st\n",
        "\n",
        "# Create the animation object\n",
        "ani = FuncAnimation(fig, update_animation, frames=SIM_STEPS, interval=20, blit=True, repeat=False)\n",
        "\n",
        "# Save the animation as a GIF\n",
        "gif_path = 'ngft_simulation_animation.gif'\n",
        "print(f\"Attempting to save animation to {gif_path}...\")\n",
        "ani.save(gif_path, writer='pillow', fps=50) # Increased fps for smoother animation\n",
        "print(f\"Animation saving process finished.\")\n",
        "\n",
        "# Close the plot to prevent it from displaying twice\n",
        "plt.close(fig)\n",
        "\n",
        "print(f\"Phase 2 complete. Animation saved as {gif_path}.\")\n",
        "print(\"Phase 3: Displaying animation...\")\n",
        "\n",
        "# Check if the file exists and is not empty before displaying\n",
        "if os.path.exists(gif_path) and os.path.getsize(gif_path) > 0:\n",
        "    print(f\"Successfully saved and found non-empty GIF file: {gif_path}\")\n",
        "    # Display the saved GIF\n",
        "    display(HTML(f'<img src=\"{gif_path}\">'))\n",
        "else:\n",
        "    print(f\"Error: GIF file not found or is empty at {gif_path}.\")\n",
        "    print(\"The animation may not have saved correctly.\")\n",
        "\n",
        "\n",
        "# --- Final Analysis (Unchanged) ---\n",
        "print(\"\\n--- Simulation Complete ---\")\n",
        "# ... (rest of the analysis code) ..."
      ]
    }
  ]
}
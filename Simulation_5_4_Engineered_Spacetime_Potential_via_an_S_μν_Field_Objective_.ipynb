{
  "nbformat": 4,
  "nbformat_minor": 0,
  "metadata": {
    "colab": {
      "provenance": [],
      "authorship_tag": "ABX9TyNuZJnSIZVT0wWoFxIar6xZ",
      "include_colab_link": true
    },
    "kernelspec": {
      "name": "julia",
      "display_name": "Julia"
    },
    "language_info": {
      "name": "julia"
    }
  },
  "cells": [
    {
      "cell_type": "markdown",
      "metadata": {
        "id": "view-in-github",
        "colab_type": "text"
      },
      "source": [
        "<a href=\"https://colab.research.google.com/github/LordRelentless/NGFTSimulations/blob/main/Simulation_5_4_Engineered_Spacetime_Potential_via_an_S_%CE%BC%CE%BD_Field_Objective_.ipynb\" target=\"_parent\"><img src=\"https://colab.research.google.com/assets/colab-badge.svg\" alt=\"Open In Colab\"/></a>"
      ]
    },
    {
      "cell_type": "code",
      "execution_count": 6,
      "metadata": {
        "colab": {
          "base_uri": "https://localhost:8080/"
        },
        "id": "XXhKCXUOkegY",
        "outputId": "75c86d3a-6f26-47b5-e804-1104770f25db"
      },
      "outputs": [
        {
          "output_type": "stream",
          "name": "stdout",
          "text": [
            "--- NGFT Engineered Spacetime Simulation ---\n",
            "Phase 1: Calculating particle trajectory...\n",
            "Phase 1 complete.\n",
            "Phase 2: Rendering animation...\n"
          ]
        },
        {
          "output_type": "stream",
          "name": "stderr",
          "text": [
            "WARNING: redefinition of constant Main.CENTER_MASS_POS. This may fail, cause incorrect answers, or produce other errors.\n",
            "WARNING: redefinition of constant Main.PARTICLE_START_POS. This may fail, cause incorrect answers, or produce other errors.\n"
          ]
        },
        {
          "output_type": "stream",
          "name": "stdout",
          "text": [
            "Animation saved as ngft_engineered_potential.gif\n"
          ]
        },
        {
          "output_type": "stream",
          "name": "stderr",
          "text": [
            "\u001b[36m\u001b[1m[ \u001b[22m\u001b[39m\u001b[36m\u001b[1mInfo: \u001b[22m\u001b[39mSaved animation to /content/ngft_engineered_potential.gif\n"
          ]
        },
        {
          "output_type": "stream",
          "name": "stdout",
          "text": [
            "Final plot saved as ngft_engineered_potential_final.png\n",
            "Simulation successfully finished.\n"
          ]
        }
      ],
      "source": [
        "# Simulation 5.4: Engineered Spacetime Potential via an S_μν Field\n",
        "# Language: Julia\n",
        "\n",
        "using Plots\n",
        "using Printf\n",
        "using LinearAlgebra\n",
        "gr()\n",
        "\n",
        "println(\"--- NGFT Engineered Spacetime Simulation ---\")\n",
        "\n",
        "# --- 1. Simulation & NGFT Parameters ---\n",
        "global N_FRAMES = 500\n",
        "global DT = 0.5\n",
        "global LATTICE_SIZE = 200\n",
        "\n",
        "# Central Mass (I_μν Source)\n",
        "global GRAVITATIONAL_STRENGTH = 1.0 # Strength of the I_μν potential well\n",
        "global CENTER_MASS_POS = [100.0, 100.0]\n",
        "\n",
        "# Engineered BEC (S_μν Source)\n",
        "global NUM_VORTICES = 6\n",
        "global VORTEX_RADIUS = 30.0 # Radius of the BEC boundary\n",
        "global ENTROPIC_PRESSURE_STRENGTH = 1.2 # Strength of the S_μν potential hill\n",
        "                                      # Must be > GRAVITATIONAL_STRENGTH to cause repulsion\n",
        "\n",
        "# Test Particle\n",
        "global PARTICLE_START_POS = [50.0, 125.0]\n",
        "\n",
        "# --- 2. Helper Functions ---\n",
        "function generate_gaussian(size, center, sigma)\n",
        "    x_coords = [i for i in 1:size, j in 1:size]\n",
        "    y_coords = [j for i in 1:size, j in 1:size]\n",
        "    return exp.(-((x_coords .- center[1]).^2 .+ (y_coords .- center[2]).^2) ./ (2 * sigma^2))\n",
        "end\n",
        "\n",
        "function get_gradient(field, pos)\n",
        "    ix, iy = round(Int, pos[1]), round(Int, pos[2])\n",
        "    if ix < 2 || ix > size(field, 1)-1 || iy < 2 || iy > size(field, 2)-1\n",
        "        return [0.0, 0.0]\n",
        "    end\n",
        "    grad_x = (field[ix+1, iy] - field[ix-1, iy]) / 2.0\n",
        "    grad_y = (field[ix, iy+1] - field[ix, iy-1]) / 2.0\n",
        "    return [grad_x, grad_y]\n",
        "end\n",
        "\n",
        "# --- 3. Setup Potentials and Particle ---\n",
        "# I_μν Field: The attractive potential well from the central mass\n",
        "global potential_attractive = -GRAVITATIONAL_STRENGTH .* generate_gaussian(LATTICE_SIZE, CENTER_MASS_POS, 25.0)\n",
        "\n",
        "# S_μν Field: The repulsive potential hill from the engineered BEC vortices\n",
        "global potential_repulsive = zeros(LATTICE_SIZE, LATTICE_SIZE)\n",
        "global vortex_positions = zeros(NUM_VORTICES, 2)\n",
        "for i in 1:NUM_VORTICES\n",
        "    angle = 2pi * i / NUM_VORTICES\n",
        "    vortex_pos = CENTER_MASS_POS + [VORTEX_RADIUS * cos(angle), VORTEX_RADIUS * sin(angle)]\n",
        "    vortex_positions[i, :] = vortex_pos\n",
        "    global potential_repulsive .+= ENTROPIC_PRESSURE_STRENGTH .* generate_gaussian(LATTICE_SIZE, vortex_pos, 8.0)\n",
        "end\n",
        "\n",
        "# Net Potential Field is the sum of the two, as per the NGFT field equations\n",
        "global net_potential = potential_attractive .+ potential_repulsive\n",
        "\n",
        "# Initialize particle\n",
        "global particle_pos = copy(PARTICLE_START_POS)\n",
        "global particle_vel = [1.0, -0.2] # Give it an initial velocity towards the well\n",
        "\n",
        "# --- 4. PHASE 1: Run Simulation ---\n",
        "println(\"Phase 1: Calculating particle trajectory...\")\n",
        "global path_history = [copy(particle_pos)]\n",
        "\n",
        "for _ in 1:N_FRAMES\n",
        "    # The particle's acceleration is determined by the gradient of the NET potential\n",
        "    accel = -get_gradient(net_potential, particle_pos)\n",
        "\n",
        "    global particle_vel += accel * DT\n",
        "    global particle_pos += particle_vel * DT\n",
        "\n",
        "    push!(path_history, copy(particle_pos))\n",
        "end\n",
        "println(\"Phase 1 complete.\")\n",
        "\n",
        "# --- 5. PHASE 2: Render Animation ---\n",
        "println(\"Phase 2: Rendering animation...\")\n",
        "global anim = @animate for i in 1:2:N_FRAMES\n",
        "    current_plot = plot(xlims=(0, LATTICE_SIZE), ylims=(0, LATTICE_SIZE), aspect_ratio=:equal,\n",
        "         size=(1000, 1000), background_color=:black,\n",
        "         title=\"Engineered Spacetime Potential (Frame $i/$N_FRAMES)\",\n",
        "         legend=false, grid=false, xticks=false, yticks=false)\n",
        "\n",
        "    # Plot the net potential field\n",
        "    heatmap!(current_plot, 1:LATTICE_SIZE, 1:LATTICE_SIZE, net_potential', c=:coolwarm, colorbar=false)\n",
        "\n",
        "    # Plot the BEC boundary\n",
        "    bec_boundary_angles = range(0, 2pi, length=100)\n",
        "    bec_x = CENTER_MASS_POS[1] .+ (VORTEX_RADIUS + 10) .* cos.(bec_boundary_angles)\n",
        "    bec_y = CENTER_MASS_POS[2] .+ (VORTEX_RADIUS + 10) .* sin.(bec_boundary_angles)\n",
        "    plot!(current_plot, bec_x, bec_y, ls=:dash, color=:cyan, alpha=0.7)\n",
        "\n",
        "    # Plot the S_μν sources (vortices)\n",
        "    scatter!(current_plot, vortex_positions[:,1], vortex_positions[:,2], marker=:utriangle, color=:cyan, markersize=8)\n",
        "\n",
        "    # Plot the I_μν source (central mass)\n",
        "    scatter!(current_plot, [CENTER_MASS_POS[1]], [CENTER_MASS_POS[2]], marker=:circle, color=:yellow, markersize=10)\n",
        "\n",
        "    # Plot the particle path and current position\n",
        "    path_to_draw = path_history[1:i]\n",
        "    plot!(current_plot, [p[1] for p in path_to_draw], [p[2] for p in path_to_draw], color=:lightgreen, lw=2)\n",
        "    scatter!(current_plot, [particle_pos[1]], [particle_pos[2]], color=:lightgreen, markersize=6)\n",
        "\n",
        "    current_plot # Return the plot for the animation\n",
        "end\n",
        "\n",
        "# --- 6. Save Final Outputs ---\n",
        "gif(anim, \"ngft_engineered_potential.gif\", fps=30)\n",
        "println(\"Animation saved as ngft_engineered_potential.gif\")\n",
        "\n",
        "# Save the last frame as a static image\n",
        "global final_plot = plot(xlims=(0, LATTICE_SIZE), ylims=(0, LATTICE_SIZE), aspect_ratio=:equal,\n",
        "         size=(1000, 1000), background_color=:black,\n",
        "         title=\"Engineered Spacetime Potential (Final Frame)\",\n",
        "         legend=false, grid=false, xticks=false, yticks=false)\n",
        "\n",
        "heatmap!(final_plot, 1:LATTICE_SIZE, 1:LATTICE_SIZE, net_potential', c=:coolwarm, colorbar=false)\n",
        "\n",
        "bec_boundary_angles = range(0, 2pi, length=100)\n",
        "bec_x = CENTER_MASS_POS[1] .+ (VORTEX_RADIUS + 10) .* cos.(bec_boundary_angles)\n",
        "bec_y = CENTER_MASS_POS[2] .+ (VORTEX_RADIUS + 10) .* sin.(bec_boundary_angles)\n",
        "plot!(final_plot, bec_x, bec_y, ls=:dash, color=:cyan, alpha=0.7)\n",
        "\n",
        "scatter!(final_plot, vortex_positions[:,1], vortex_positions[:,2], marker=:utriangle, color=:cyan, markersize=8)\n",
        "\n",
        "scatter!(final_plot, [CENTER_MASS_POS[1]], [CENTER_MASS_POS[2]], marker=:circle, color=:yellow, markersize=10)\n",
        "\n",
        "path_to_draw = path_history[1:end]\n",
        "plot!(final_plot, [p[1] for p in path_to_draw], [p[2] for p in path_to_draw], color=:lightgreen, lw=2)\n",
        "scatter!(final_plot, [particle_pos[1]], [particle_pos[2]], color=:lightgreen, markersize=6)\n",
        "\n",
        "\n",
        "savefig(final_plot, \"ngft_engineered_potential_final.png\")\n",
        "println(\"Final plot saved as ngft_engineered_potential_final.png\")\n",
        "println(\"Simulation successfully finished.\")"
      ]
    }
  ]
}
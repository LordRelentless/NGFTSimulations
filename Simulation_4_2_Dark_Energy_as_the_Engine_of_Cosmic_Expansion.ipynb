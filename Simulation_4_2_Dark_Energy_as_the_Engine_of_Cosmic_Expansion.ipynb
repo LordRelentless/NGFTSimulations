{
  "nbformat": 4,
  "nbformat_minor": 0,
  "metadata": {
    "colab": {
      "provenance": [],
      "authorship_tag": "ABX9TyO/Ry7LckELPPXjaTBLvIE7",
      "include_colab_link": true
    },
    "kernelspec": {
      "name": "julia",
      "display_name": "Julia"
    },
    "language_info": {
      "name": "julia"
    }
  },
  "cells": [
    {
      "cell_type": "markdown",
      "metadata": {
        "id": "view-in-github",
        "colab_type": "text"
      },
      "source": [
        "<a href=\"https://colab.research.google.com/github/LordRelentless/NGFTSimulations/blob/main/Simulation_4_2_Dark_Energy_as_the_Engine_of_Cosmic_Expansion.ipynb\" target=\"_parent\"><img src=\"https://colab.research.google.com/assets/colab-badge.svg\" alt=\"Open In Colab\"/></a>"
      ]
    },
    {
      "cell_type": "code",
      "execution_count": 5,
      "metadata": {
        "colab": {
          "base_uri": "https://localhost:8080/"
        },
        "id": "PXqyo4eQFAlx",
        "outputId": "960bccd8-3bc9-4889-c040-d3b5730c5c43"
      },
      "outputs": [
        {
          "output_type": "stream",
          "name": "stdout",
          "text": [
            "--- NGFT Dark Energy Simulation ---\n",
            "Phase 1: Calculating cosmic expansion history...\n",
            "Phase 1 complete.\n",
            "Phase 2: Rendering animation...\n",
            "Animation saved as ngft_dark_energy_simulation.gif\n"
          ]
        },
        {
          "output_type": "stream",
          "name": "stderr",
          "text": [
            "\u001b[36m\u001b[1m[ \u001b[22m\u001b[39m\u001b[36m\u001b[1mInfo: \u001b[22m\u001b[39mSaved animation to /content/ngft_dark_energy_simulation.gif\n"
          ]
        },
        {
          "output_type": "stream",
          "name": "stdout",
          "text": [
            "Final plot saved as ngft_expansion_curve.png\n",
            "Simulation successfully finished.\n"
          ]
        }
      ],
      "source": [
        "# Simulation 4.2: Dark Energy as an Emergent NGFT Phenomenon\n",
        "# Language: Julia\n",
        "\n",
        "using Plots\n",
        "using Printf\n",
        "gr()\n",
        "\n",
        "println(\"--- NGFT Dark Energy Simulation ---\")\n",
        "\n",
        "# --- 1. Simulation and NGFT Parameters ---\n",
        "N_FRAMES = 1000\n",
        "DT = 0.01\n",
        "\n",
        "# Grid represents the ZPT substrate\n",
        "GRID_SIZE = 50\n",
        "\n",
        "# NGFT Constants\n",
        "const a_U = 0.005  # The Information-Energy Constant. How much energy each new bit adds.\n",
        "const INFO_CREATION_PROB = 0.1 # Probability for a ZPT node to generate info each step.\n",
        "\n",
        "# Cosmological Constant (Simplified Friedmann equation)\n",
        "# Represents the coupling between energy density and expansion rate\n",
        "const H_COUPLING = 0.1\n",
        "\n",
        "# --- 2. Initialization ---\n",
        "# The universe starts small and with minimal energy\n",
        "scale_factor = 1.0\n",
        "total_energy = 1e-6 # Start with a tiny vacuum energy to kick things off\n",
        "\n",
        "# History arrays for plotting\n",
        "scale_history = zeros(N_FRAMES)\n",
        "time_history = zeros(N_FRAMES)\n",
        "\n",
        "# The base grid of ZPT nodes (never changes)\n",
        "base_grid_x = [i for i in 1:GRID_SIZE for j in 1:GRID_SIZE]\n",
        "base_grid_y = [j for i in 1:GRID_SIZE for j in 1:GRID_SIZE]\n",
        "\n",
        "# Variable to hold the last plot object for saving\n",
        "last_plot = nothing\n",
        "\n",
        "# --- 3. PHASE 1: Run Physics Calculation ---\n",
        "println(\"Phase 1: Calculating cosmic expansion history...\")\n",
        "for i in 1:N_FRAMES\n",
        "    # A. Information Creation\n",
        "    # Each ZPT node has a chance to create a new bit of information\n",
        "    n_nodes = GRID_SIZE^2\n",
        "    delta_I = count(rand(n_nodes) .< INFO_CREATION_PROB)\n",
        "\n",
        "    # B. NGFT Energy Injection\n",
        "    # The new information adds energy to the universe\n",
        "    delta_E = a_U * delta_I\n",
        "    global total_energy += delta_E\n",
        "\n",
        "    # C. Expansion Dynamics\n",
        "    # Energy density decreases as the universe expands (Area = (a*L)^2)\n",
        "    current_area = (scale_factor * GRID_SIZE)^2\n",
        "    energy_density = total_energy / current_area\n",
        "\n",
        "    # Simplified Friedmann equation: expansion rate depends on energy density\n",
        "    a_dot = scale_factor * sqrt(max(0, energy_density)) * H_COUPLING\n",
        "\n",
        "    # Update the scale factor\n",
        "    global scale_factor += a_dot * DT\n",
        "\n",
        "    # Store history\n",
        "    scale_history[i] = scale_factor\n",
        "    time_history[i] = i * DT\n",
        "end\n",
        "println(\"Phase 1 complete.\")\n",
        "\n",
        "# --- 4. PHASE 2: Render the Animation ---\n",
        "println(\"Phase 2: Rendering animation...\")\n",
        "\n",
        "anim = @animate for i in 1:N_FRAMES\n",
        "    # A. Setup plot layout\n",
        "    p_layout = @layout [a{0.5w} b]\n",
        "    p = plot(layout=p_layout, size=(1600, 800), background_color=:black,\n",
        "             bottom_margin=10Plots.mm, left_margin=10Plots.mm)\n",
        "\n",
        "    # B. Left Pane: Visualizing the Expanding ZPT Grid\n",
        "    current_a = scale_history[i]\n",
        "\n",
        "    # The grid points are scaled by the current scale factor and centered\n",
        "    display_grid_x = (base_grid_x .- GRID_SIZE/2) .* current_a\n",
        "    display_grid_y = (base_grid_y .- GRID_SIZE/2) .* current_a\n",
        "\n",
        "\n",
        "    # Fix the plot limits to show the expansion\n",
        "    plot_lim = GRID_SIZE * 1.1 # Fixed limit based on initial grid size\n",
        "    plot!(p[1], xlims=(-plot_lim/2, plot_lim/2), ylims=(-plot_lim/2, plot_lim/2),\n",
        "          aspect_ratio=:equal, title=\"Expanding ZPT Substrate\",\n",
        "          legend=false, grid=false, xticks=false, yticks=false)\n",
        "\n",
        "\n",
        "    scatter!(p[1], display_grid_x, display_grid_y, markersize=1, color=:cyan, markerstrokewidth=0)\n",
        "\n",
        "    # C. Right Pane: The Scale Factor Plot (The Scientific Result)\n",
        "    plot!(p[2], xlims=(0, N_FRAMES * DT), ylims=(0, scale_history[end] * 1.1),\n",
        "          title=\"Cosmic Expansion from Information Creation\",\n",
        "          xlabel=\"Time (Arbitrary Units)\", ylabel=\"Scale Factor a(t)\")\n",
        "\n",
        "    # Plot the history up to the current frame\n",
        "    plot!(p[2], time_history[1:i], scale_history[1:i], color=:cyan, lw=3, label=\"Scale Factor a(t)\")\n",
        "\n",
        "    # Add annotation explaining the result\n",
        "    annotate!(p[2], time_history[end]*0.1, scale_history[end]*0.8,\n",
        "              text(\"The upward curve shows\\nACCELERATED EXPANSION\\ndriven purely by NGFT info-energy.\",\n",
        "              color=:white, pointsize=10, halign=:left))\n",
        "\n",
        "    # Store the current plot object if it's the last frame\n",
        "    if i == N_FRAMES\n",
        "        global last_plot = p\n",
        "    end\n",
        "end\n",
        "\n",
        "# --- 5. Save the Final Outputs ---\n",
        "gif(anim, \"ngft_dark_energy_simulation.gif\", fps=30)\n",
        "println(\"Animation saved as ngft_dark_energy_simulation.gif\")\n",
        "\n",
        "# Save the last plot object\n",
        "savefig(last_plot, \"ngft_expansion_curve.png\")\n",
        "println(\"Final plot saved as ngft_expansion_curve.png\")\n",
        "println(\"Simulation successfully finished.\")"
      ]
    }
  ]
}
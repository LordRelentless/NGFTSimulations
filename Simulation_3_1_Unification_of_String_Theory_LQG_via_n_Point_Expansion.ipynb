{
  "nbformat": 4,
  "nbformat_minor": 0,
  "metadata": {
    "colab": {
      "provenance": [],
      "authorship_tag": "ABX9TyNCmozmCJTzrmjqM6ZpCIGK",
      "include_colab_link": true
    },
    "kernelspec": {
      "name": "julia",
      "display_name": "Julia"
    },
    "language_info": {
      "name": "julia"
    }
  },
  "cells": [
    {
      "cell_type": "markdown",
      "metadata": {
        "id": "view-in-github",
        "colab_type": "text"
      },
      "source": [
        "<a href=\"https://colab.research.google.com/github/LordRelentless/NGFTSimulations/blob/main/Simulation_3_1_Unification_of_String_Theory_LQG_via_n_Point_Expansion.ipynb\" target=\"_parent\"><img src=\"https://colab.research.google.com/assets/colab-badge.svg\" alt=\"Open In Colab\"/></a>"
      ]
    },
    {
      "cell_type": "code",
      "execution_count": 1,
      "metadata": {
        "colab": {
          "base_uri": "https://localhost:8080/"
        },
        "id": "rajp3jgdeLg-",
        "outputId": "2c8e21bc-086e-45b1-ea8a-741ffb74cbe5"
      },
      "outputs": [
        {
          "output_type": "stream",
          "name": "stdout",
          "text": [
            "--- NGFT Conceptual Unification Simulation ---\n",
            "Rendering animation... This may take a moment.\n",
            "Animation saved as ngft_unification_simulation.gif\n"
          ]
        },
        {
          "output_type": "stream",
          "name": "stderr",
          "text": [
            "\u001b[36m\u001b[1m[ \u001b[22m\u001b[39m\u001b[36m\u001b[1mInfo: \u001b[22m\u001b[39mSaved animation to /content/ngft_unification_simulation.gif\n"
          ]
        }
      ],
      "source": [
        "# Simulation 3.1: Conceptual Unification of LQG and String Theory\n",
        "# Language: Julia\n",
        "\n",
        "using Plots\n",
        "gr()\n",
        "\n",
        "println(\"--- NGFT Conceptual Unification Simulation ---\")\n",
        "println(\"Rendering animation... This may take a moment.\")\n",
        "\n",
        "# --- 1. Simulation Parameters ---\n",
        "GRID_SIZE = 20\n",
        "N_FRAMES = 300\n",
        "FPS = 30\n",
        "\n",
        "# Coordinates for the n-Point\n",
        "N_POINT_COORDS = [5.0, 10.0]\n",
        "\n",
        "# Properties of the information channel and string vibration\n",
        "CHANNEL_MAX_LENGTH = 12.0\n",
        "WAVE_AMPLITUDE = 0.5\n",
        "WAVE_FREQUENCY = 2.0  # Controls how many peaks are visible\n",
        "WAVE_SPEED = 0.2     # Controls how fast the wave travels along the channel\n",
        "\n",
        "# --- 2. Setup Static Data ---\n",
        "# Create the background ZPT/LQG grid\n",
        "grid_x = [i for i in 1:GRID_SIZE for j in 1:GRID_SIZE]\n",
        "grid_y = [j for i in 1:GRID_SIZE for j in 1:GRID_SIZE]\n",
        "\n",
        "# --- 3. Create the Animation ---\n",
        "anim = @animate for i in 1:N_FRAMES\n",
        "    # A. Setup the plot for this frame\n",
        "    plot(size=(1000, 800), background_color=:black, legend=false,\n",
        "         xlims=(0, GRID_SIZE), ylims=(0, GRID_SIZE),\n",
        "         title=\"NGFT Unification: LQG + String Theory\",\n",
        "         grid=false, xticks=false, yticks=false)\n",
        "\n",
        "    # B. Plot the ZPT/LQG Substrate (The \"Hardware\")\n",
        "    scatter!(grid_x, grid_y, color=:white, markersize=1.5, alpha=0.2, markerstrokewidth=0)\n",
        "    annotate!(3, 19, text(\"1. The Zero-Point Topology (ZPT):\\nA discrete network substrate, as described by\\nLoop Quantum Gravity (LQG).\",\n",
        "                         color=:white, pointsize=10, halign=:left))\n",
        "\n",
        "    # C. Highlight the n-Point\n",
        "    scatter!([N_POINT_COORDS[1]], [N_POINT_COORDS[2]], color=:cyan, markersize=10, markerstrokewidth=0)\n",
        "    annotate!(N_POINT_COORDS[1] + 0.5, N_POINT_COORDS[2] + 0.5, text(\"The n-Point\", color=:cyan, pointsize=10, halign=:left))\n",
        "\n",
        "    # D. Animate the growth of the Information Channel\n",
        "    # The channel grows for the first half of the animation\n",
        "    current_length = min(CHANNEL_MAX_LENGTH, (i / (N_FRAMES / 2)) * CHANNEL_MAX_LENGTH)\n",
        "\n",
        "    if current_length > 0.1\n",
        "        channel_x = [N_POINT_COORDS[1], N_POINT_COORDS[1] + current_length]\n",
        "        channel_y = [N_POINT_COORDS[2], N_POINT_COORDS[2]]\n",
        "\n",
        "        plot!(channel_x, channel_y, color=:magenta, lw=2.5, alpha=0.7)\n",
        "        annotate!(N_POINT_COORDS[1] + 2, 17, text(\"2. Topological Expansion:\\nThe n-Point expands, creating a higher-dimensional\\n'information channel'. This is the 'extra dimension'.\",\n",
        "                                                 color=:magenta, pointsize=10, halign=:left))\n",
        "    end\n",
        "\n",
        "    # E. Animate the String Vibration along the channel\n",
        "    # The vibration starts after the channel begins to form\n",
        "    if i > N_FRAMES / 4\n",
        "        # Phase shifts with time to create moving wave\n",
        "        phase = -i * WAVE_SPEED\n",
        "\n",
        "        # Generate points along the channel up to its current length\n",
        "        wave_x = range(N_POINT_COORDS[1], N_POINT_COORDS[1] + current_length, length=200)\n",
        "        # Calculate the sine wave perpendicular to the channel\n",
        "        wave_y = N_POINT_COORDS[2] .+ WAVE_AMPLITUDE .* sin.(WAVE_FREQUENCY .* (wave_x .- N_POINT_COORDS[1]) .+ phase)\n",
        "\n",
        "        plot!(wave_x, wave_y, color=:yellow, lw=3)\n",
        "        annotate!(N_POINT_COORDS[1] + 2, 3, text(\"3. String Vibration:\\n'Vibrational modes' of String Theory are reinterpreted as\\ninformation propagating along the channel, defining\\nthe particle's properties (mass, charge, spin).\",\n",
        "                                                color=:yellow, pointsize=10, halign=:left))\n",
        "    end\n",
        "end\n",
        "\n",
        "# --- 4. Save the Animation ---\n",
        "gif(anim, \"ngft_unification_simulation.gif\", fps=FPS)\n",
        "println(\"Animation saved as ngft_unification_simulation.gif\")"
      ]
    }
  ]
}
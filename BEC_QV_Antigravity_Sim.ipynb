{
  "nbformat": 4,
  "nbformat_minor": 0,
  "metadata": {
    "colab": {
      "provenance": [],
      "authorship_tag": "ABX9TyMbhQBPNlzlQVCZJIvSnutG",
      "include_colab_link": true
    },
    "kernelspec": {
      "name": "python3",
      "display_name": "Python 3"
    },
    "language_info": {
      "name": "python"
    }
  },
  "cells": [
    {
      "cell_type": "markdown",
      "metadata": {
        "id": "view-in-github",
        "colab_type": "text"
      },
      "source": [
        "<a href=\"https://colab.research.google.com/github/LordRelentless/NGFTSimulations/blob/main/BEC_QV_Antigravity_Sim.ipynb\" target=\"_parent\"><img src=\"https://colab.research.google.com/assets/colab-badge.svg\" alt=\"Open In Colab\"/></a>"
      ]
    },
    {
      "cell_type": "code",
      "execution_count": 2,
      "metadata": {
        "colab": {
          "base_uri": "https://localhost:8080/"
        },
        "id": "A0kmDjeBVmsR",
        "outputId": "5019f8ce-679d-4e6f-e3f9-7fb35d9330df"
      },
      "outputs": [
        {
          "output_type": "stream",
          "name": "stdout",
          "text": [
            "✅ Cell 1 Complete: Dependencies ready.\n"
          ]
        }
      ],
      "source": [
        "# Cell 1: Setup and Imports\n",
        "!pip install numpy matplotlib scipy -q\n",
        "import numpy as np\n",
        "import matplotlib.pyplot as plt\n",
        "import matplotlib.animation as animation\n",
        "from IPython.display import HTML, display\n",
        "from scipy.ndimage import gaussian_filter\n",
        "\n",
        "# Configure Matplotlib\n",
        "plt.rcParams['animation.html'] = 'jshtml'\n",
        "plt.rcParams['figure.facecolor'] = 'black'\n",
        "plt.rcParams['animation.embed_limit'] = 150 # Set limit to 50 MB\n",
        "\n",
        "print(\"✅ Cell 1 Complete: Dependencies ready.\")"
      ]
    },
    {
      "cell_type": "code",
      "source": [
        "# Cell 2: NGFT Constants and Simulation Parameters (V23 - Quantum Vortex Simulation)\n",
        "\n",
        "# --- Simulation Domain ---\n",
        "LATTICE_SIZE = 200\n",
        "DT = 0.1\n",
        "TOTAL_FRAMES = 500\n",
        "\n",
        "# --- NGFT Physics Parameters ---\n",
        "# How strongly the massive object curves spacetime.\n",
        "GRAVITATIONAL_STRENGTH = 0.8\n",
        "\n",
        "# How strongly the \"programmed\" vortices create counter-curvature. This is the key tuning parameter.\n",
        "VORTEX_REPULSION_STRENGTH = 2.5\n",
        "\n",
        "# --- Physical Objects ---\n",
        "# Massive Object (e.g., a planet)\n",
        "MASSIVE_OBJECT_POS = (LATTICE_SIZE // 2, LATTICE_SIZE // 2)\n",
        "MASSIVE_OBJECT_DENSITY = 100.0\n",
        "MASSIVE_OBJECT_RADIUS = LATTICE_SIZE / 10\n",
        "\n",
        "# Bose-Einstein Condensate (BEC)\n",
        "BEC_POS = (LATTICE_SIZE // 2, LATTICE_SIZE // 2)\n",
        "BEC_RADIUS = LATTICE_SIZE / 4\n",
        "\n",
        "# Test Particle\n",
        "TEST_PARTICLE_START_POS = (LATTICE_SIZE / 4, LATTICE_SIZE / 2)\n",
        "\n",
        "# --- Quantum Vortex Parameters ---\n",
        "NUM_VORTICES = 7 # Number of vortices to create in the BEC\n",
        "VORTEX_CORE_SIZE = 1.5 # How sharp the vortex is\n",
        "VORTEX_CHARGE = 1 # Topological charge (+1 or -1)\n",
        "\n",
        "print(\"✅ Cell 2 Complete (V23): Quantum Vortex parameters configured.\")"
      ],
      "metadata": {
        "colab": {
          "base_uri": "https://localhost:8080/"
        },
        "id": "y91F7M-PV3RK",
        "outputId": "22b2a7fc-d6a5-4146-c03e-39b2af726cd5"
      },
      "execution_count": 3,
      "outputs": [
        {
          "output_type": "stream",
          "name": "stdout",
          "text": [
            "✅ Cell 2 Complete (V23): Quantum Vortex parameters configured.\n"
          ]
        }
      ]
    },
    {
      "cell_type": "code",
      "source": [
        "# Cell 3: Core Physics and Helper Functions (V23)\n",
        "\n",
        "class TestParticle:\n",
        "    \"\"\"A simple particle to probe the gravitational field.\"\"\"\n",
        "    def __init__(self, x, y):\n",
        "        self.x, self.y = x, y\n",
        "        self.vx, self.vy = 0.0, 0.0\n",
        "        self.path = [(x, y)]\n",
        "\n",
        "def initialize_gravity_field(lattice_size):\n",
        "    \"\"\"Creates the background gravitational potential from the massive object.\"\"\"\n",
        "    x, y = np.meshgrid(np.arange(lattice_size), np.arange(lattice_size))\n",
        "    dist_sq = (x - MASSIVE_OBJECT_POS[0])**2 + (y - MASSIVE_OBJECT_POS[1])**2\n",
        "    # A Gaussian potential well\n",
        "    potential = -MASSIVE_OBJECT_DENSITY * np.exp(-dist_sq / (2 * MASSIVE_OBJECT_RADIUS**2))\n",
        "    return potential\n",
        "\n",
        "def initialize_bec_with_vortices(lattice_size):\n",
        "    \"\"\"Creates the BEC wave function and embeds quantum vortices.\"\"\"\n",
        "    x, y = np.meshgrid(np.arange(lattice_size), np.arange(lattice_size))\n",
        "\n",
        "    # Start with a uniform BEC density\n",
        "    bec_density = np.zeros((lattice_size, lattice_size))\n",
        "    dist_from_bec_center_sq = (x - BEC_POS[0])**2 + (y - BEC_POS[1])**2\n",
        "    bec_density[dist_from_bec_center_sq < BEC_RADIUS**2] = 1.0\n",
        "\n",
        "    # The BEC wave function is complex: Psi = sqrt(density) * exp(i * phase)\n",
        "    psi = np.sqrt(bec_density).astype(np.complex128)\n",
        "\n",
        "    # Add vortices by manipulating the phase\n",
        "    # Place vortices randomly within the BEC radius\n",
        "    vortex_positions = []\n",
        "    for _ in range(NUM_VORTICES):\n",
        "        r = np.random.uniform(0, BEC_RADIUS * 0.8)\n",
        "        theta = np.random.uniform(0, 2 * np.pi)\n",
        "        vx = BEC_POS[0] + r * np.cos(theta)\n",
        "        vy = BEC_POS[1] + r * np.sin(theta)\n",
        "        vortex_positions.append((vx, vy))\n",
        "\n",
        "        # Add the phase contribution of this vortex\n",
        "        phase = VORTEX_CHARGE * np.arctan2(y - vy, x - vx)\n",
        "        psi *= np.exp(1j * phase)\n",
        "\n",
        "    print(f\"✅ BEC initialized with {NUM_VORTICES} quantum vortices.\")\n",
        "    return psi, vortex_positions\n",
        "\n",
        "def get_vortex_info_field(psi):\n",
        "    \"\"\"\n",
        "    Calculates the NGFT Information Field from the BEC vortices.\n",
        "    In NGFT, information is related to complexity and gradients. We model this\n",
        "    as being high where the BEC phase changes rapidly (i.e., near the vortex cores).\n",
        "    \"\"\"\n",
        "    # Phase gradient magnitude is a good proxy for informational complexity\n",
        "    phase = np.angle(psi)\n",
        "    grad_phase_y, grad_phase_x = np.gradient(phase)\n",
        "    info_field = np.sqrt(grad_phase_x**2 + grad_phase_y**2)\n",
        "\n",
        "    # Normalize and clip to prevent extreme values at the vortex singularity\n",
        "    info_field /= np.max(info_field) if np.max(info_field) > 0 else 1.0\n",
        "    return gaussian_filter(info_field, sigma=VORTEX_CORE_SIZE)\n",
        "\n",
        "def get_net_potential(gravity_potential, vortex_info_field):\n",
        "    \"\"\"\n",
        "    Calculates the net potential by combining gravity (attractive)\n",
        "    and the NGFT vortex effect (repulsive).\n",
        "    \"\"\"\n",
        "    # The \"programmed\" vortices create a repulsive potential hill\n",
        "    vortex_repulsion = VORTEX_REPULSION_STRENGTH * vortex_info_field\n",
        "\n",
        "    # The net potential is the sum of the two\n",
        "    return GRAVITATIONAL_STRENGTH * gravity_potential + vortex_repulsion\n",
        "\n",
        "def evolve_particle(particle, net_potential, dt):\n",
        "    \"\"\"Evolves the test particle's motion based on the gradient of the net potential.\"\"\"\n",
        "    # The force is the negative gradient of the potential field\n",
        "    grad_pot_y, grad_pot_x = np.gradient(net_potential)\n",
        "\n",
        "    # Interpolate the force at the particle's current position\n",
        "    ix, iy = int(particle.x), int(particle.y)\n",
        "    if not (0 <= ix < LATTICE_SIZE-1 and 0 <= iy < LATTICE_SIZE-1):\n",
        "        return # Particle is off-grid\n",
        "\n",
        "    force_x = -grad_pot_x[iy, ix]\n",
        "    force_y = -grad_pot_y[iy, ix]\n",
        "\n",
        "    # Update velocity (F=ma, so a=F/m, let m=1)\n",
        "    particle.vx += force_x * dt\n",
        "    particle.vy += force_y * dt\n",
        "\n",
        "    # Update position\n",
        "    particle.x += particle.vx * dt\n",
        "    particle.y += particle.vy * dt\n",
        "\n",
        "    particle.path.append((particle.x, particle.y))\n",
        "\n",
        "print(\"✅ Cell 3 Complete (V23): Core functions for vortex simulation defined.\")"
      ],
      "metadata": {
        "colab": {
          "base_uri": "https://localhost:8080/"
        },
        "id": "zOqAlEsWV6BY",
        "outputId": "d5d247dd-8cf1-4677-c90b-c4b85f2daea7"
      },
      "execution_count": 1,
      "outputs": [
        {
          "output_type": "stream",
          "name": "stdout",
          "text": [
            "✅ Cell 3 Complete (V23): Core functions for vortex simulation defined.\n"
          ]
        }
      ]
    },
    {
      "cell_type": "code",
      "source": [
        "# Cell 4: Main Simulation Loop, Execution, and Analysis (V23)\n",
        "\n",
        "def run_vortex_simulation():\n",
        "    # --- Step 1: Initialization ---\n",
        "    print(\"🚀 Initializing NGFT Quantum Vortex simulation...\")\n",
        "    gravity_potential = initialize_gravity_field(LATTICE_SIZE)\n",
        "    bec_psi, vortex_positions = initialize_bec_with_vortices(LATTICE_SIZE)\n",
        "    test_particle = TestParticle(TEST_PARTICLE_START_POS[0], TEST_PARTICLE_START_POS[1])\n",
        "\n",
        "    # --- Step 2: Matplotlib Setup ---\n",
        "    fig, ax = plt.subplots(figsize=(10, 10))\n",
        "    ax.set_facecolor('black')\n",
        "    ax.set_aspect('equal')\n",
        "    ax.set_xlim(0, LATTICE_SIZE); ax.set_ylim(0, LATTICE_SIZE)\n",
        "    ax.tick_params(labelcolor='white', color='white')\n",
        "    for spine in ax.spines.values(): spine.set_edgecolor('white')\n",
        "\n",
        "    # Calculate the net potential for visualization\n",
        "    vortex_info_field = get_vortex_info_field(bec_psi)\n",
        "    net_potential = get_net_potential(gravity_potential, vortex_info_field)\n",
        "\n",
        "    # Plot the potential field\n",
        "    potential_display = ax.imshow(net_potential, cmap='coolwarm_r', origin='lower', animated=True)\n",
        "    fig.colorbar(potential_display, ax=ax, label=\"Net Potential (Blue=Gravity, Red=NGFT Repulsion)\")\n",
        "\n",
        "    # Plot objects\n",
        "    ax.add_patch(plt.Circle(MASSIVE_OBJECT_POS, MASSIVE_OBJECT_RADIUS, color='blue', alpha=0.3, label='Gravitational Well'))\n",
        "    ax.add_patch(plt.Circle(BEC_POS, BEC_RADIUS, ec='cyan', fc='none', lw=2, ls='--', label='BEC Boundary'))\n",
        "    ax.plot(*zip(*vortex_positions), 'c^', markersize=8, label='Quantum Vortices')\n",
        "    particle_plot, = ax.plot([], [], 'o', color='lime', markersize=8, label='Test Particle')\n",
        "    path_plot, = ax.plot([], [], '-', color='lime', alpha=0.5, lw=1.5)\n",
        "\n",
        "    ax.legend(loc='upper right', facecolor='gray', framealpha=0.8)\n",
        "    main_title = ax.set_title(\"\", color='white', fontsize=16)\n",
        "\n",
        "    # --- Step 3: Animation Loop ---\n",
        "    def animate(frame):\n",
        "        # In a more complex simulation, the BEC itself would evolve. Here, we keep it static.\n",
        "        # We re-calculate the net potential in case we make it dynamic later.\n",
        "        vortex_info_field = get_vortex_info_field(bec_psi)\n",
        "        net_potential = get_net_potential(gravity_potential, vortex_info_field)\n",
        "\n",
        "        # Evolve the test particle\n",
        "        evolve_particle(test_particle, net_potential, DT)\n",
        "\n",
        "        # Update plots\n",
        "        particle_plot.set_data([test_particle.x], [test_particle.y])\n",
        "        path_x, path_y = zip(*test_particle.path)\n",
        "        path_plot.set_data(path_x, path_y)\n",
        "\n",
        "        main_title.set_text(f\"NGFT Vortex Gravity Mitigation (V23)\\nFrame: {frame}/{TOTAL_FRAMES}\")\n",
        "        return [particle_plot, path_plot, main_title]\n",
        "\n",
        "    # --- Step 4: Run Animation and Analysis ---\n",
        "    print(\"Starting V23 simulation...\")\n",
        "    ani = animation.FuncAnimation(fig, animate, frames=TOTAL_FRAMES, interval=40, blit=True, repeat=False)\n",
        "\n",
        "    # Save the animation as a GIF\n",
        "    gif_filename = \"vortex_simulation.gif\"\n",
        "    print(f\"Saving animation to {gif_filename}...\")\n",
        "    ani.save(gif_filename, writer='pillow', fps=25) # Use 'pillow' writer for GIF\n",
        "\n",
        "    plt.close(fig)\n",
        "    print(f\"✅ Animation saved to {gif_filename}\")\n",
        "\n",
        "    print(\"\\n--- FINAL ANALYSIS OF SIMULATION RESULTS (V23) ---\")\n",
        "\n",
        "    final_pos = test_particle.path[-1]\n",
        "    dist_to_center = np.sqrt((final_pos[0]-MASSIVE_OBJECT_POS[0])**2 + (final_pos[1]-MASSIVE_OBJECT_POS[1])**2)\n",
        "\n",
        "    print(f\"Final particle distance from massive object center: {dist_to_center:.2f} units.\")\n",
        "    if dist_to_center > MASSIVE_OBJECT_RADIUS * 1.5:\n",
        "        print(\"\\n✅ SUCCESS: The particle was significantly deflected or repelled.\")\n",
        "        print(\"This indicates that the NGFT Quantum Vortices successfully generated a 'counter-gravity' or repulsive\")\n",
        "        print(\"potential, mitigating the gravitational pull of the massive object.\")\n",
        "    else:\n",
        "        print(\"\\n⚠️ NOTE: The particle was not significantly deflected. It fell into the gravity well.\")\n",
        "        print(\"Consider increasing VORTEX_REPULSION_STRENGTH in Cell 2.\")\n",
        "\n",
        "# Execute the main function\n",
        "run_vortex_simulation()"
      ],
      "metadata": {
        "colab": {
          "base_uri": "https://localhost:8080/"
        },
        "id": "Evml9LquV9dR",
        "outputId": "c3545668-6282-47c0-efaf-93b009451006"
      },
      "execution_count": 5,
      "outputs": [
        {
          "output_type": "stream",
          "name": "stdout",
          "text": [
            "🚀 Initializing NGFT Quantum Vortex simulation...\n",
            "✅ BEC initialized with 7 quantum vortices.\n",
            "Starting V23 simulation...\n",
            "Saving animation to vortex_simulation.gif...\n",
            "✅ Animation saved to vortex_simulation.gif\n",
            "\n",
            "--- FINAL ANALYSIS OF SIMULATION RESULTS (V23) ---\n",
            "Final particle distance from massive object center: 49.90 units.\n",
            "\n",
            "✅ SUCCESS: The particle was significantly deflected or repelled.\n",
            "This indicates that the NGFT Quantum Vortices successfully generated a 'counter-gravity' or repulsive\n",
            "potential, mitigating the gravitational pull of the massive object.\n"
          ]
        }
      ]
    }
  ]
}